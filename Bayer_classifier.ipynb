{
 "cells": [
  {
   "cell_type": "code",
   "execution_count": 18,
   "metadata": {},
   "outputs": [],
   "source": [
    "import numpy as np \n",
    "import matplotlib.pyplot as plt \n",
    "import seaborn as sns \n",
    "from statsmodels.nonparametric.kernel_density import KDEMultivariate, KDEMultivariateConditional\n",
    "import pandas as pd"
   ]
  },
  {
   "cell_type": "code",
   "execution_count": 19,
   "metadata": {},
   "outputs": [
    {
     "data": {
      "text/html": [
       "<div>\n",
       "<style scoped>\n",
       "    .dataframe tbody tr th:only-of-type {\n",
       "        vertical-align: middle;\n",
       "    }\n",
       "\n",
       "    .dataframe tbody tr th {\n",
       "        vertical-align: top;\n",
       "    }\n",
       "\n",
       "    .dataframe thead th {\n",
       "        text-align: right;\n",
       "    }\n",
       "</style>\n",
       "<table border=\"1\" class=\"dataframe\">\n",
       "  <thead>\n",
       "    <tr style=\"text-align: right;\">\n",
       "      <th></th>\n",
       "      <th>sepal_length</th>\n",
       "      <th>sepal_width</th>\n",
       "      <th>petal_length</th>\n",
       "      <th>petal_width</th>\n",
       "      <th>species</th>\n",
       "    </tr>\n",
       "  </thead>\n",
       "  <tbody>\n",
       "    <tr>\n",
       "      <th>0</th>\n",
       "      <td>5.1</td>\n",
       "      <td>3.5</td>\n",
       "      <td>1.4</td>\n",
       "      <td>0.2</td>\n",
       "      <td>0</td>\n",
       "    </tr>\n",
       "    <tr>\n",
       "      <th>1</th>\n",
       "      <td>4.9</td>\n",
       "      <td>3.0</td>\n",
       "      <td>1.4</td>\n",
       "      <td>0.2</td>\n",
       "      <td>0</td>\n",
       "    </tr>\n",
       "    <tr>\n",
       "      <th>2</th>\n",
       "      <td>4.7</td>\n",
       "      <td>3.2</td>\n",
       "      <td>1.3</td>\n",
       "      <td>0.2</td>\n",
       "      <td>0</td>\n",
       "    </tr>\n",
       "    <tr>\n",
       "      <th>3</th>\n",
       "      <td>4.6</td>\n",
       "      <td>3.1</td>\n",
       "      <td>1.5</td>\n",
       "      <td>0.2</td>\n",
       "      <td>0</td>\n",
       "    </tr>\n",
       "    <tr>\n",
       "      <th>4</th>\n",
       "      <td>5.0</td>\n",
       "      <td>3.6</td>\n",
       "      <td>1.4</td>\n",
       "      <td>0.2</td>\n",
       "      <td>0</td>\n",
       "    </tr>\n",
       "  </tbody>\n",
       "</table>\n",
       "</div>"
      ],
      "text/plain": [
       "   sepal_length  sepal_width  petal_length  petal_width  species\n",
       "0           5.1          3.5           1.4          0.2        0\n",
       "1           4.9          3.0           1.4          0.2        0\n",
       "2           4.7          3.2           1.3          0.2        0\n",
       "3           4.6          3.1           1.5          0.2        0\n",
       "4           5.0          3.6           1.4          0.2        0"
      ]
     },
     "execution_count": 19,
     "metadata": {},
     "output_type": "execute_result"
    }
   ],
   "source": [
    "df = sns.load_dataset(\"iris\")\n",
    "\n",
    "dic = {'setosa': 0, 'versicolor': 1, 'virginica': 2}\n",
    "df['species'] = df['species'].map(dic)\n",
    "\n",
    "df.head()"
   ]
  },
  {
   "cell_type": "code",
   "execution_count": 49,
   "metadata": {},
   "outputs": [],
   "source": [
    "X = df.iloc[:, :-1].to_numpy()\n",
    "y = df.iloc[:, -1].to_numpy()"
   ]
  },
  {
   "cell_type": "code",
   "execution_count": 77,
   "metadata": {},
   "outputs": [],
   "source": [
    "def Bayes_classifier(X, y, dep_type, indep_type):\n",
    "\n",
    "    kde_Xc = KDEMultivariateConditional(endog=X, exog=y,\n",
    "                                        dep_type=dep_type, indep_type=indep_type,\n",
    "                                        bw='normal_reference').pdf\n",
    "    kde_X = KDEMultivariate(X, var_type=dep_type).pdf\n",
    "    Prior = np.unique(y, return_counts=True)[1] / y.size\n",
    "\n",
    "    PXc = np.array([kde_Xc(X[0, :], [i]) for i in range(3)])\n",
    "    PcX = PXc * Prior / kde_X(X[0, :])\n",
    "\n",
    "    return PcX"
   ]
  },
  {
   "cell_type": "code",
   "execution_count": 79,
   "metadata": {},
   "outputs": [
    {
     "data": {
      "text/plain": [
       "array([0.59129795, 0.13441514, 0.07273842])"
      ]
     },
     "execution_count": 79,
     "metadata": {},
     "output_type": "execute_result"
    }
   ],
   "source": [
    "Bayes_classifier(X, y, 'cccc', 'o')"
   ]
  },
  {
   "cell_type": "code",
   "execution_count": 64,
   "metadata": {},
   "outputs": [
    {
     "ename": "ValueError",
     "evalue": "operands could not be broadcast together with shapes (3,150) (3,) ",
     "output_type": "error",
     "traceback": [
      "\u001b[1;31m---------------------------------------------------------------------------\u001b[0m",
      "\u001b[1;31mValueError\u001b[0m                                Traceback (most recent call last)",
      "\u001b[1;32m~\\AppData\\Local\\Temp/ipykernel_14288/222139856.py\u001b[0m in \u001b[0;36m<module>\u001b[1;34m\u001b[0m\n\u001b[0;32m      8\u001b[0m \u001b[1;33m\u001b[0m\u001b[0m\n\u001b[0;32m      9\u001b[0m \u001b[0mPXc\u001b[0m \u001b[1;33m=\u001b[0m \u001b[0mnp\u001b[0m\u001b[1;33m.\u001b[0m\u001b[0marray\u001b[0m\u001b[1;33m(\u001b[0m\u001b[1;33m[\u001b[0m\u001b[0mkde_Xc\u001b[0m\u001b[1;33m(\u001b[0m\u001b[0mX\u001b[0m\u001b[1;33m[\u001b[0m\u001b[1;33m:\u001b[0m\u001b[1;33m,\u001b[0m \u001b[1;33m:\u001b[0m\u001b[1;33m]\u001b[0m\u001b[1;33m,\u001b[0m \u001b[1;33m[\u001b[0m\u001b[0mi\u001b[0m\u001b[1;33m]\u001b[0m \u001b[1;33m*\u001b[0m \u001b[0my\u001b[0m\u001b[1;33m.\u001b[0m\u001b[0msize\u001b[0m\u001b[1;33m)\u001b[0m \u001b[1;32mfor\u001b[0m \u001b[0mi\u001b[0m \u001b[1;32min\u001b[0m \u001b[0mrange\u001b[0m\u001b[1;33m(\u001b[0m\u001b[1;36m3\u001b[0m\u001b[1;33m)\u001b[0m\u001b[1;33m]\u001b[0m\u001b[1;33m)\u001b[0m\u001b[1;33m\u001b[0m\u001b[1;33m\u001b[0m\u001b[0m\n\u001b[1;32m---> 10\u001b[1;33m \u001b[0mPcX\u001b[0m \u001b[1;33m=\u001b[0m \u001b[0mPXc\u001b[0m \u001b[1;33m*\u001b[0m \u001b[0mPrior\u001b[0m \u001b[1;33m/\u001b[0m \u001b[0mkde_X\u001b[0m\u001b[1;33m(\u001b[0m\u001b[0mX\u001b[0m\u001b[1;33m[\u001b[0m\u001b[1;33m:\u001b[0m\u001b[1;33m,\u001b[0m \u001b[1;33m:\u001b[0m\u001b[1;33m]\u001b[0m\u001b[1;33m)\u001b[0m\u001b[1;33m\u001b[0m\u001b[1;33m\u001b[0m\u001b[0m\n\u001b[0m",
      "\u001b[1;31mValueError\u001b[0m: operands could not be broadcast together with shapes (3,150) (3,) "
     ]
    }
   ],
   "source": [
    "dep_type, indep_type = 'cccc', 'o'\n",
    "\n",
    "kde_Xc = KDEMultivariateConditional(endog=X, exog=y,\n",
    "                                        dep_type=dep_type, indep_type=indep_type,\n",
    "                                        bw='normal_reference').pdf\n",
    "kde_X = KDEMultivariate(X, var_type=dep_type).pdf\n",
    "Prior = np.unique(y, return_counts=True)[1] / y.size\n",
    "\n",
    "PXc = np.array([kde_Xc(X[:, :], [i] * y.size) for i in range(3)])\n",
    "PcX = PXc * Prior / kde_X(X[:, :])"
   ]
  },
  {
   "cell_type": "code",
   "execution_count": 75,
   "metadata": {},
   "outputs": [
    {
     "data": {
      "text/plain": [
       "0.9666666666666667"
      ]
     },
     "execution_count": 75,
     "metadata": {},
     "output_type": "execute_result"
    }
   ],
   "source": [
    "(np.argmax(((PXc.T * Prior).T / kde_X(X[:, :])).T, axis=1) == y).sum() / y.size"
   ]
  },
  {
   "cell_type": "code",
   "execution_count": 63,
   "metadata": {},
   "outputs": [
    {
     "data": {
      "text/plain": [
       "array([0.13456223, 0.093696  , 0.1221964 , 0.10551239, 0.1230745 ,\n",
       "       0.06700751, 0.11204455, 0.14070454, 0.05994416, 0.11064045,\n",
       "       0.09693333, 0.13278892, 0.0927639 , 0.06169041, 0.03699528,\n",
       "       0.01518958, 0.06682341, 0.13492261, 0.05961312, 0.09079043,\n",
       "       0.10653979, 0.10544928, 0.08039461, 0.11305098, 0.12357617,\n",
       "       0.08868713, 0.13356876, 0.13023853, 0.13096682, 0.12232798,\n",
       "       0.11366226, 0.1044521 , 0.03960118, 0.03135707, 0.11416638,\n",
       "       0.12334627, 0.09616081, 0.1128496 , 0.07472396, 0.13799148,\n",
       "       0.13402843, 0.00727011, 0.09089284, 0.10438929, 0.0819805 ,\n",
       "       0.09351155, 0.08958856, 0.11501899, 0.10377154, 0.13747304,\n",
       "       0.01271778, 0.021345  , 0.01804571, 0.0142763 , 0.02627003,\n",
       "       0.029785  , 0.01693234, 0.00919377, 0.02371353, 0.01711462,\n",
       "       0.00426303, 0.02854008, 0.00889356, 0.03234862, 0.02247946,\n",
       "       0.02024102, 0.02389695, 0.02410117, 0.00839559, 0.02131564,\n",
       "       0.01742014, 0.02907513, 0.01720481, 0.02863352, 0.02707057,\n",
       "       0.02428078, 0.01829648, 0.02373918, 0.03270089, 0.01965199,\n",
       "       0.01760332, 0.01636837, 0.0276288 , 0.02534552, 0.01853049,\n",
       "       0.01059126, 0.02211517, 0.01068608, 0.02333038, 0.02130844,\n",
       "       0.0231537 , 0.03056269, 0.02593062, 0.00924441, 0.02778404,\n",
       "       0.02412664, 0.02882279, 0.03025211, 0.01134072, 0.02971387,\n",
       "       0.00699703, 0.01765932, 0.01149523, 0.0219252 , 0.01496756,\n",
       "       0.00487786, 0.00586687, 0.00756125, 0.00743494, 0.00245153,\n",
       "       0.01820785, 0.0181846 , 0.0165408 , 0.00976107, 0.00739227,\n",
       "       0.0131738 , 0.02265615, 0.00156909, 0.00208354, 0.00804642,\n",
       "       0.01142783, 0.01428331, 0.00382916, 0.02239978, 0.01225473,\n",
       "       0.00888041, 0.02626669, 0.02634731, 0.01543133, 0.01041691,\n",
       "       0.0064455 , 0.00142566, 0.01343975, 0.02775562, 0.01616357,\n",
       "       0.00418914, 0.00723283, 0.02138256, 0.02562097, 0.01538396,\n",
       "       0.01216101, 0.01220468, 0.01765932, 0.01147167, 0.00853403,\n",
       "       0.01403454, 0.01263536, 0.02158513, 0.00768233, 0.02279384])"
      ]
     },
     "execution_count": 63,
     "metadata": {},
     "output_type": "execute_result"
    }
   ],
   "source": [
    "kde_Xc(X[:, :], [0]*150)"
   ]
  },
  {
   "cell_type": "code",
   "execution_count": 93,
   "metadata": {},
   "outputs": [],
   "source": [
    "def Naive_Bayes_classifier(X, y, dep_type, indep_type):\n",
    "    n_classes = len(np.unique(y))\n",
    "    n_features = X.shape[1]\n",
    "\n",
    "    kde_Xc = []\n",
    "    kde_X = []\n",
    "\n",
    "    for i in range(n_features):\n",
    "        kde_Xc.append(KDEMultivariateConditional(endog=X[:, i], exog=y, \n",
    "                                                 dep_type=dep_type, \n",
    "                                                 indep_type=indep_type, \n",
    "                                                 bw='normal_reference').pdf)\n",
    "        kde_X.append(KDEMultivariate(X[:, i], var_type=dep_type).pdf)\n",
    "\n",
    "    Prior = np.unique(y, return_counts=True)[1] / y.size\n",
    "\n",
    "    c = np.zeros(n_classes)\n",
    "    for i in range(n_classes):\n",
    "        tmp = 1\n",
    "        for j in range(n_features):\n",
    "            tmp *= kde_Xc[j]([X[0, j]], [i]) / kde_X[j]([X[0, j]])\n",
    "        c[i] = tmp * Prior[i]\n",
    "\n",
    "    return c"
   ]
  },
  {
   "cell_type": "code",
   "execution_count": 95,
   "metadata": {},
   "outputs": [],
   "source": [
    "def Naive_Bayes_classifier(X, y, dep_type, indep_type):\n",
    "    n_classes = len(np.unique(y))\n",
    "    n_features = X.shape[1]\n",
    "\n",
    "    kde_Xc = []\n",
    "\n",
    "    for i in range(n_features):\n",
    "        kde_Xc.append(KDEMultivariateConditional(endog=X[:, i], exog=y, \n",
    "                                                 dep_type=dep_type, \n",
    "                                                 indep_type=indep_type, \n",
    "                                                 bw='normal_reference').pdf)\n",
    "        \n",
    "    kde_X = KDEMultivariate(X, var_type='cccc').pdf\n",
    "\n",
    "    Prior = np.unique(y, return_counts=True)[1] / y.size\n",
    "\n",
    "    c = np.zeros(n_classes)\n",
    "    for i in range(n_classes):\n",
    "        tmp = 1\n",
    "        for j in range(n_features):\n",
    "            tmp *= kde_Xc[j]([X[0, j]], [i])\n",
    "        c[i] = tmp * Prior[i] / kde_X(X[0, :])\n",
    "\n",
    "    return c"
   ]
  },
  {
   "cell_type": "code",
   "execution_count": 98,
   "metadata": {},
   "outputs": [
    {
     "data": {
      "text/plain": [
       "array([7.43143307e-01, 4.09563514e-03, 3.12770498e-04])"
      ]
     },
     "execution_count": 98,
     "metadata": {},
     "output_type": "execute_result"
    }
   ],
   "source": [
    "Naive_Bayes_classifier(X, y, 'c', 'o')"
   ]
  },
  {
   "cell_type": "code",
   "execution_count": null,
   "metadata": {},
   "outputs": [],
   "source": []
  }
 ],
 "metadata": {
  "interpreter": {
   "hash": "c6e4e9f98eb68ad3b7c296f83d20e6de614cb42e90992a65aa266555a3137d0d"
  },
  "kernelspec": {
   "display_name": "Python 3.9.6 64-bit ('base': conda)",
   "language": "python",
   "name": "python3"
  },
  "language_info": {
   "codemirror_mode": {
    "name": "ipython",
    "version": 3
   },
   "file_extension": ".py",
   "mimetype": "text/x-python",
   "name": "python",
   "nbconvert_exporter": "python",
   "pygments_lexer": "ipython3",
   "version": "3.9.6"
  },
  "orig_nbformat": 4
 },
 "nbformat": 4,
 "nbformat_minor": 2
}
