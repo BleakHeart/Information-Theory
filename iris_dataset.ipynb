{
 "cells": [
  {
   "cell_type": "code",
   "execution_count": 1,
   "metadata": {},
   "outputs": [],
   "source": [
    "import numpy as np\n",
    "import pandas as pd\n",
    "import seaborn as sns\n",
    "import matplotlib.pyplot as plt\n",
    "from itertools import combinations\n",
    "from library.pmf_estimators import *\n",
    "from library.information_discrete import MI, E"
   ]
  },
  {
   "cell_type": "code",
   "execution_count": 2,
   "metadata": {},
   "outputs": [
    {
     "data": {
      "text/html": [
       "<div>\n",
       "<style scoped>\n",
       "    .dataframe tbody tr th:only-of-type {\n",
       "        vertical-align: middle;\n",
       "    }\n",
       "\n",
       "    .dataframe tbody tr th {\n",
       "        vertical-align: top;\n",
       "    }\n",
       "\n",
       "    .dataframe thead th {\n",
       "        text-align: right;\n",
       "    }\n",
       "</style>\n",
       "<table border=\"1\" class=\"dataframe\">\n",
       "  <thead>\n",
       "    <tr style=\"text-align: right;\">\n",
       "      <th></th>\n",
       "      <th>sepal_length</th>\n",
       "      <th>sepal_width</th>\n",
       "      <th>petal_length</th>\n",
       "      <th>petal_width</th>\n",
       "      <th>species</th>\n",
       "    </tr>\n",
       "  </thead>\n",
       "  <tbody>\n",
       "    <tr>\n",
       "      <th>0</th>\n",
       "      <td>5.1</td>\n",
       "      <td>3.5</td>\n",
       "      <td>1.4</td>\n",
       "      <td>0.2</td>\n",
       "      <td>setosa</td>\n",
       "    </tr>\n",
       "    <tr>\n",
       "      <th>1</th>\n",
       "      <td>4.9</td>\n",
       "      <td>3.0</td>\n",
       "      <td>1.4</td>\n",
       "      <td>0.2</td>\n",
       "      <td>setosa</td>\n",
       "    </tr>\n",
       "    <tr>\n",
       "      <th>2</th>\n",
       "      <td>4.7</td>\n",
       "      <td>3.2</td>\n",
       "      <td>1.3</td>\n",
       "      <td>0.2</td>\n",
       "      <td>setosa</td>\n",
       "    </tr>\n",
       "    <tr>\n",
       "      <th>3</th>\n",
       "      <td>4.6</td>\n",
       "      <td>3.1</td>\n",
       "      <td>1.5</td>\n",
       "      <td>0.2</td>\n",
       "      <td>setosa</td>\n",
       "    </tr>\n",
       "    <tr>\n",
       "      <th>4</th>\n",
       "      <td>5.0</td>\n",
       "      <td>3.6</td>\n",
       "      <td>1.4</td>\n",
       "      <td>0.2</td>\n",
       "      <td>setosa</td>\n",
       "    </tr>\n",
       "  </tbody>\n",
       "</table>\n",
       "</div>"
      ],
      "text/plain": [
       "   sepal_length  sepal_width  petal_length  petal_width species\n",
       "0           5.1          3.5           1.4          0.2  setosa\n",
       "1           4.9          3.0           1.4          0.2  setosa\n",
       "2           4.7          3.2           1.3          0.2  setosa\n",
       "3           4.6          3.1           1.5          0.2  setosa\n",
       "4           5.0          3.6           1.4          0.2  setosa"
      ]
     },
     "execution_count": 2,
     "metadata": {},
     "output_type": "execute_result"
    }
   ],
   "source": [
    "df = sns.load_dataset(\"iris\")\n",
    "df.head()"
   ]
  },
  {
   "cell_type": "code",
   "execution_count": 3,
   "metadata": {},
   "outputs": [],
   "source": [
    "df_discr = df.copy()\n",
    "\n",
    "# Discretizing the Dataset\n",
    "df_discr.iloc[:, :-1] = (df_discr.iloc[:, :-1] * 10).astype(int)"
   ]
  },
  {
   "cell_type": "code",
   "execution_count": 4,
   "metadata": {},
   "outputs": [
    {
     "name": "stdout",
     "output_type": "stream",
     "text": [
      "sepal_length: 3.3423682425704624\n",
      "\n",
      "sepal_width: 2.7886565850017027\n",
      "\n",
      "petal_length: 3.4896979687210656\n",
      "\n",
      "petal_width: 2.807126229460098\n",
      "\n"
     ]
    }
   ],
   "source": [
    "# defining some constants to use in our purpose\n",
    "features = df.columns.to_list()[:-1]\n",
    "rows, n_features = df_discr.iloc[:, :-1].shape\n",
    "\n",
    "# Computing the Entropies for all the Iris features\n",
    "Entropies = []\n",
    "for feature in features:\n",
    "    x_vals, pmf = pmf_univariate(df_discr[feature])  # Computing the pmf\n",
    "    Entropies.append(E(pmf))\n",
    "\n",
    "for i in range(n_features):\n",
    "    print(f'{features[i]}: {Entropies[i]}\\n')"
   ]
  },
  {
   "cell_type": "code",
   "execution_count": 5,
   "metadata": {},
   "outputs": [
    {
     "data": {
      "text/html": [
       "<div>\n",
       "<style scoped>\n",
       "    .dataframe tbody tr th:only-of-type {\n",
       "        vertical-align: middle;\n",
       "    }\n",
       "\n",
       "    .dataframe tbody tr th {\n",
       "        vertical-align: top;\n",
       "    }\n",
       "\n",
       "    .dataframe thead th {\n",
       "        text-align: right;\n",
       "    }\n",
       "</style>\n",
       "<table border=\"1\" class=\"dataframe\">\n",
       "  <thead>\n",
       "    <tr style=\"text-align: right;\">\n",
       "      <th>Mutual Information</th>\n",
       "      <th>sepal_length</th>\n",
       "      <th>sepal_width</th>\n",
       "      <th>petal_length</th>\n",
       "      <th>petal_width</th>\n",
       "    </tr>\n",
       "  </thead>\n",
       "  <tbody>\n",
       "    <tr>\n",
       "      <th>sepal_length</th>\n",
       "      <td>3.342368</td>\n",
       "      <td>1.448570</td>\n",
       "      <td>2.081429</td>\n",
       "      <td>1.553124</td>\n",
       "    </tr>\n",
       "    <tr>\n",
       "      <th>sepal_width</th>\n",
       "      <td>1.448570</td>\n",
       "      <td>2.788657</td>\n",
       "      <td>1.543936</td>\n",
       "      <td>1.161699</td>\n",
       "    </tr>\n",
       "    <tr>\n",
       "      <th>petal_length</th>\n",
       "      <td>2.081429</td>\n",
       "      <td>1.543936</td>\n",
       "      <td>3.489698</td>\n",
       "      <td>1.867926</td>\n",
       "    </tr>\n",
       "    <tr>\n",
       "      <th>petal_width</th>\n",
       "      <td>1.553124</td>\n",
       "      <td>1.161699</td>\n",
       "      <td>1.867926</td>\n",
       "      <td>2.807126</td>\n",
       "    </tr>\n",
       "  </tbody>\n",
       "</table>\n",
       "</div>"
      ],
      "text/plain": [
       "Mutual Information  sepal_length  sepal_width  petal_length  petal_width\n",
       "sepal_length            3.342368     1.448570      2.081429     1.553124\n",
       "sepal_width             1.448570     2.788657      1.543936     1.161699\n",
       "petal_length            2.081429     1.543936      3.489698     1.867926\n",
       "petal_width             1.553124     1.161699      1.867926     2.807126"
      ]
     },
     "execution_count": 5,
     "metadata": {},
     "output_type": "execute_result"
    }
   ],
   "source": [
    "MI_matrix = np.zeros((n_features, n_features))\n",
    "\n",
    "# Computing the Mutual information over all the features combinations\n",
    "for i in combinations(range(n_features), 2):\n",
    "    ix, iy = i                          # extracting the indices \n",
    "    Lx, Ly = features[ix], features[iy] # extracting the features\n",
    "    PXY = Joint_p(df_discr[Lx], df_discr[Ly]) # Computing the Joint Probability\n",
    "    PX = PXY.sum(axis=1)  # Computing the X marginal probability\n",
    "    PY = PXY.sum(axis=0)  # Computing the Y marginal probability\n",
    "    MI_matrix[ix, iy] = MI_matrix[iy, ix] = MI(PXY, PX, PY)  # Mutual Information is symmetric\n",
    "\n",
    "\n",
    "# Converting the result into a pandas dataframe\n",
    "MI_matrix = pd.DataFrame(MI_matrix, columns=features, index=features)\n",
    "MI_matrix.columns.name = 'Mutual Information'\n",
    "MI_matrix[MI_matrix == 0] = Entropies # adding the entropies to the result\n",
    "MI_matrix"
   ]
  }
 ],
 "metadata": {
  "interpreter": {
   "hash": "72e85bf8702a5531dd105b812468c0bac16632bcd99c74cc9ab556b094ff7be4"
  },
  "kernelspec": {
   "display_name": "Python 3.9.6 64-bit",
   "language": "python",
   "name": "python3"
  },
  "language_info": {
   "codemirror_mode": {
    "name": "ipython",
    "version": 3
   },
   "file_extension": ".py",
   "mimetype": "text/x-python",
   "name": "python",
   "nbconvert_exporter": "python",
   "pygments_lexer": "ipython3",
   "version": "3.9.6"
  },
  "orig_nbformat": 4
 },
 "nbformat": 4,
 "nbformat_minor": 2
}
