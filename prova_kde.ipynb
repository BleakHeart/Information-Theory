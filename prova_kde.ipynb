{
 "cells": [
  {
   "cell_type": "code",
   "execution_count": 1,
   "metadata": {},
   "outputs": [
    {
     "data": {
      "text/html": [
       "<div>\n",
       "<style scoped>\n",
       "    .dataframe tbody tr th:only-of-type {\n",
       "        vertical-align: middle;\n",
       "    }\n",
       "\n",
       "    .dataframe tbody tr th {\n",
       "        vertical-align: top;\n",
       "    }\n",
       "\n",
       "    .dataframe thead th {\n",
       "        text-align: right;\n",
       "    }\n",
       "</style>\n",
       "<table border=\"1\" class=\"dataframe\">\n",
       "  <thead>\n",
       "    <tr style=\"text-align: right;\">\n",
       "      <th></th>\n",
       "      <th>sepal_length</th>\n",
       "      <th>sepal_width</th>\n",
       "      <th>petal_length</th>\n",
       "      <th>petal_width</th>\n",
       "      <th>species</th>\n",
       "    </tr>\n",
       "  </thead>\n",
       "  <tbody>\n",
       "    <tr>\n",
       "      <th>0</th>\n",
       "      <td>5.1</td>\n",
       "      <td>3.5</td>\n",
       "      <td>1.4</td>\n",
       "      <td>0.2</td>\n",
       "      <td>setosa</td>\n",
       "    </tr>\n",
       "    <tr>\n",
       "      <th>1</th>\n",
       "      <td>4.9</td>\n",
       "      <td>3.0</td>\n",
       "      <td>1.4</td>\n",
       "      <td>0.2</td>\n",
       "      <td>setosa</td>\n",
       "    </tr>\n",
       "    <tr>\n",
       "      <th>2</th>\n",
       "      <td>4.7</td>\n",
       "      <td>3.2</td>\n",
       "      <td>1.3</td>\n",
       "      <td>0.2</td>\n",
       "      <td>setosa</td>\n",
       "    </tr>\n",
       "    <tr>\n",
       "      <th>3</th>\n",
       "      <td>4.6</td>\n",
       "      <td>3.1</td>\n",
       "      <td>1.5</td>\n",
       "      <td>0.2</td>\n",
       "      <td>setosa</td>\n",
       "    </tr>\n",
       "    <tr>\n",
       "      <th>4</th>\n",
       "      <td>5.0</td>\n",
       "      <td>3.6</td>\n",
       "      <td>1.4</td>\n",
       "      <td>0.2</td>\n",
       "      <td>setosa</td>\n",
       "    </tr>\n",
       "  </tbody>\n",
       "</table>\n",
       "</div>"
      ],
      "text/plain": [
       "   sepal_length  sepal_width  petal_length  petal_width species\n",
       "0           5.1          3.5           1.4          0.2  setosa\n",
       "1           4.9          3.0           1.4          0.2  setosa\n",
       "2           4.7          3.2           1.3          0.2  setosa\n",
       "3           4.6          3.1           1.5          0.2  setosa\n",
       "4           5.0          3.6           1.4          0.2  setosa"
      ]
     },
     "execution_count": 1,
     "metadata": {},
     "output_type": "execute_result"
    }
   ],
   "source": [
    "import numpy as np \n",
    "from library.pdf_estimators import * \n",
    "from library.information_continuos import *\n",
    "import seaborn as sns\n",
    "import matplotlib.pyplot as plt \n",
    "import pandas as pd\n",
    "from library.plot import plot_settings, plot_kernels\n",
    "\n",
    "\n",
    "df = sns.load_dataset(\"iris\")\n",
    "df.head()"
   ]
  },
  {
   "cell_type": "code",
   "execution_count": 2,
   "metadata": {},
   "outputs": [
    {
     "data": {
      "text/plain": [
       "[<matplotlib.lines.Line2D at 0x12c2327f0>]"
      ]
     },
     "execution_count": 2,
     "metadata": {},
     "output_type": "execute_result"
    },
    {
     "data": {
      "image/png": "[encoded data removed]",
      "text/plain": [
       "<Figure size 432x288 with 1 Axes>"
      ]
     },
     "metadata": {
      "needs_background": "light"
     },
     "output_type": "display_data"
    }
   ],
   "source": [
    "x, pdf = kde(df.sepal_width, gaussian)\n",
    "\n",
    "plt.hist(df.sepal_width, bins='auto', density=True)\n",
    "plt.plot(x, pdf)"
   ]
  },
  {
   "cell_type": "code",
   "execution_count": 3,
   "metadata": {},
   "outputs": [],
   "source": [
    "from scipy.stats import norm\n",
    "\n",
    "xReal = np.linspace(-5, 5, 10000)\n",
    "dxReal = xReal[1] - xReal[0]\n",
    "pdfReal = norm.pdf(xReal)\n",
    "\n",
    "n_generated = 10000  # samples number to generate\n",
    "E_pdf = []\n",
    "kernels = ['gaussian', 'tophat', 'epanechnikov', \n",
    "           'exponential', 'linear', 'cosine']"
   ]
  },
  {
   "cell_type": "code",
   "execution_count": 8,
   "metadata": {},
   "outputs": [
    {
     "name": "stdout",
     "output_type": "stream",
     "text": [
      "fatto kernel gaussian\n",
      "fatto kernel tophat\n",
      "fatto kernel epanechnikov\n",
      "fatto kernel exponential\n",
      "fatto kernel linear\n",
      "fatto kernel cosine\n"
     ]
    }
   ],
   "source": [
    "n_samples = [np.power(10, i) for i in range(1, 6)]\n",
    "results = np.zeros((len(n_samples), len(kernels)))\n",
    "for i, kernel in enumerate(kernels):\n",
    "    E_pdf = []\n",
    "    for j, n in enumerate(n_samples):\n",
    "        samples = np.random.normal(size=n)\n",
    "        x, pdfEstimated = kde_sklearn(samples, kernel)\n",
    "\n",
    "        E_pdf.append(diff_E(pdfEstimated, x))\n",
    "\n",
    "    print(f'fatto kernel {kernel}')\n",
    "    results[:, i] = E_pdf"
   ]
  },
  {
   "cell_type": "code",
   "execution_count": 9,
   "metadata": {},
   "outputs": [
    {
     "data": {
      "text/html": [
       "<div>\n",
       "<style scoped>\n",
       "    .dataframe tbody tr th:only-of-type {\n",
       "        vertical-align: middle;\n",
       "    }\n",
       "\n",
       "    .dataframe tbody tr th {\n",
       "        vertical-align: top;\n",
       "    }\n",
       "\n",
       "    .dataframe thead th {\n",
       "        text-align: right;\n",
       "    }\n",
       "</style>\n",
       "<table border=\"1\" class=\"dataframe\">\n",
       "  <thead>\n",
       "    <tr style=\"text-align: right;\">\n",
       "      <th></th>\n",
       "      <th>gaussian</th>\n",
       "      <th>tophat</th>\n",
       "      <th>epanechnikov</th>\n",
       "      <th>exponential</th>\n",
       "      <th>linear</th>\n",
       "      <th>cosine</th>\n",
       "    </tr>\n",
       "    <tr>\n",
       "      <th>N generated</th>\n",
       "      <th></th>\n",
       "      <th></th>\n",
       "      <th></th>\n",
       "      <th></th>\n",
       "      <th></th>\n",
       "      <th></th>\n",
       "    </tr>\n",
       "  </thead>\n",
       "  <tbody>\n",
       "    <tr>\n",
       "      <th>10</th>\n",
       "      <td>0.865109</td>\n",
       "      <td>0.967539</td>\n",
       "      <td>1.151826</td>\n",
       "      <td>0.687093</td>\n",
       "      <td>1.041904</td>\n",
       "      <td>1.067426</td>\n",
       "    </tr>\n",
       "    <tr>\n",
       "      <th>100</th>\n",
       "      <td>1.284626</td>\n",
       "      <td>1.383930</td>\n",
       "      <td>1.343623</td>\n",
       "      <td>1.381508</td>\n",
       "      <td>1.354098</td>\n",
       "      <td>1.240247</td>\n",
       "    </tr>\n",
       "    <tr>\n",
       "      <th>1000</th>\n",
       "      <td>1.401582</td>\n",
       "      <td>1.413949</td>\n",
       "      <td>1.420527</td>\n",
       "      <td>1.469224</td>\n",
       "      <td>1.354272</td>\n",
       "      <td>1.408086</td>\n",
       "    </tr>\n",
       "    <tr>\n",
       "      <th>10000</th>\n",
       "      <td>1.439076</td>\n",
       "      <td>1.412664</td>\n",
       "      <td>1.413848</td>\n",
       "      <td>1.450433</td>\n",
       "      <td>1.428668</td>\n",
       "      <td>1.431679</td>\n",
       "    </tr>\n",
       "    <tr>\n",
       "      <th>100000</th>\n",
       "      <td>1.421113</td>\n",
       "      <td>1.419977</td>\n",
       "      <td>1.416065</td>\n",
       "      <td>1.423133</td>\n",
       "      <td>1.419899</td>\n",
       "      <td>1.421399</td>\n",
       "    </tr>\n",
       "  </tbody>\n",
       "</table>\n",
       "</div>"
      ],
      "text/plain": [
       "             gaussian    tophat  epanechnikov  exponential    linear    cosine\n",
       "N generated                                                                   \n",
       "10           0.865109  0.967539      1.151826     0.687093  1.041904  1.067426\n",
       "100          1.284626  1.383930      1.343623     1.381508  1.354098  1.240247\n",
       "1000         1.401582  1.413949      1.420527     1.469224  1.354272  1.408086\n",
       "10000        1.439076  1.412664      1.413848     1.450433  1.428668  1.431679\n",
       "100000       1.421113  1.419977      1.416065     1.423133  1.419899  1.421399"
      ]
     },
     "execution_count": 9,
     "metadata": {},
     "output_type": "execute_result"
    }
   ],
   "source": [
    "df = pd.DataFrame({'N generated': n_samples})\n",
    "\n",
    "df[kernels] = results\n",
    "df = df.set_index('N generated')\n",
    "df"
   ]
  },
  {
   "cell_type": "code",
   "execution_count": 12,
   "metadata": {},
   "outputs": [
    {
     "data": {
      "image/png": "[encoded data removed]",
      "text/plain": [
       "<Figure size 388.543x240.133 with 2 Axes>"
      ]
     },
     "metadata": {
      "needs_background": "light"
     },
     "output_type": "display_data"
    }
   ],
   "source": [
    "plot_settings()\n",
    "fig, axs = plt.subplots(1, 2)\n",
    "plot_kernels(axs[0])\n",
    "\n",
    "df.plot(logx=True, ax=axs[1], lw=0.5)\n",
    "axs[1].plot(n_samples, [diff_E(pdfReal, xReal)]* len(n_samples), label='exact pdf', lw=0.5)\n",
    "axs[1].legend()\n",
    "axs[1].grid()\n",
    "axs[1].set_title('Differential Entropy')\n",
    "axs[0].set_xlabel('x')\n",
    "fig.tight_layout()\n",
    "#plt.savefig('./Images/Kernels_diffential', dpi=600)"
   ]
  },
  {
   "cell_type": "code",
   "execution_count": 7,
   "metadata": {},
   "outputs": [
    {
     "data": {
      "text/plain": [
       "1.4189302661262027"
      ]
     },
     "execution_count": 7,
     "metadata": {},
     "output_type": "execute_result"
    }
   ],
   "source": [
    "diff_E(pdfReal, xReal)"
   ]
  }
 ],
 "metadata": {
  "interpreter": {
   "hash": "c6e4e9f98eb68ad3b7c296f83d20e6de614cb42e90992a65aa266555a3137d0d"
  },
  "kernelspec": {
   "display_name": "Python 3.9.6 64-bit ('base': conda)",
   "language": "python",
   "name": "python3"
  },
  "language_info": {
   "codemirror_mode": {
    "name": "ipython",
    "version": 3
   },
   "file_extension": ".py",
   "mimetype": "text/x-python",
   "name": "python",
   "nbconvert_exporter": "python",
   "pygments_lexer": "ipython3",
   "version": "3.9.6"
  },
  "orig_nbformat": 4
 },
 "nbformat": 4,
 "nbformat_minor": 2
}
