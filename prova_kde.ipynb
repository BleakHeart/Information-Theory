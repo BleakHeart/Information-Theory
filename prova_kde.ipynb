{
 "cells": [
  {
   "cell_type": "code",
   "execution_count": 1,
   "metadata": {},
   "outputs": [
    {
     "data": {
      "text/html": [
       "<div>\n",
       "<style scoped>\n",
       "    .dataframe tbody tr th:only-of-type {\n",
       "        vertical-align: middle;\n",
       "    }\n",
       "\n",
       "    .dataframe tbody tr th {\n",
       "        vertical-align: top;\n",
       "    }\n",
       "\n",
       "    .dataframe thead th {\n",
       "        text-align: right;\n",
       "    }\n",
       "</style>\n",
       "<table border=\"1\" class=\"dataframe\">\n",
       "  <thead>\n",
       "    <tr style=\"text-align: right;\">\n",
       "      <th></th>\n",
       "      <th>sepal_length</th>\n",
       "      <th>sepal_width</th>\n",
       "      <th>petal_length</th>\n",
       "      <th>petal_width</th>\n",
       "      <th>species</th>\n",
       "    </tr>\n",
       "  </thead>\n",
       "  <tbody>\n",
       "    <tr>\n",
       "      <th>0</th>\n",
       "      <td>5.1</td>\n",
       "      <td>3.5</td>\n",
       "      <td>1.4</td>\n",
       "      <td>0.2</td>\n",
       "      <td>setosa</td>\n",
       "    </tr>\n",
       "    <tr>\n",
       "      <th>1</th>\n",
       "      <td>4.9</td>\n",
       "      <td>3.0</td>\n",
       "      <td>1.4</td>\n",
       "      <td>0.2</td>\n",
       "      <td>setosa</td>\n",
       "    </tr>\n",
       "    <tr>\n",
       "      <th>2</th>\n",
       "      <td>4.7</td>\n",
       "      <td>3.2</td>\n",
       "      <td>1.3</td>\n",
       "      <td>0.2</td>\n",
       "      <td>setosa</td>\n",
       "    </tr>\n",
       "    <tr>\n",
       "      <th>3</th>\n",
       "      <td>4.6</td>\n",
       "      <td>3.1</td>\n",
       "      <td>1.5</td>\n",
       "      <td>0.2</td>\n",
       "      <td>setosa</td>\n",
       "    </tr>\n",
       "    <tr>\n",
       "      <th>4</th>\n",
       "      <td>5.0</td>\n",
       "      <td>3.6</td>\n",
       "      <td>1.4</td>\n",
       "      <td>0.2</td>\n",
       "      <td>setosa</td>\n",
       "    </tr>\n",
       "  </tbody>\n",
       "</table>\n",
       "</div>"
      ],
      "text/plain": [
       "   sepal_length  sepal_width  petal_length  petal_width species\n",
       "0           5.1          3.5           1.4          0.2  setosa\n",
       "1           4.9          3.0           1.4          0.2  setosa\n",
       "2           4.7          3.2           1.3          0.2  setosa\n",
       "3           4.6          3.1           1.5          0.2  setosa\n",
       "4           5.0          3.6           1.4          0.2  setosa"
      ]
     },
     "execution_count": 1,
     "metadata": {},
     "output_type": "execute_result"
    }
   ],
   "source": [
    "import numpy as np \n",
    "from library.pdf_estimators import * \n",
    "from library.information_continuos import *\n",
    "import seaborn as sns\n",
    "import matplotlib.pyplot as plt \n",
    "import pandas as pd\n",
    "\n",
    "\n",
    "df = sns.load_dataset(\"iris\")\n",
    "df.head()"
   ]
  },
  {
   "cell_type": "code",
   "execution_count": 2,
   "metadata": {},
   "outputs": [
    {
     "data": {
      "text/plain": [
       "[<matplotlib.lines.Line2D at 0x19260b10ee0>]"
      ]
     },
     "execution_count": 2,
     "metadata": {},
     "output_type": "execute_result"
    },
    {
     "data": {
      "image/png": "[encoded data removed]",
      "text/plain": [
       "<Figure size 432x288 with 1 Axes>"
      ]
     },
     "metadata": {
      "needs_background": "light"
     },
     "output_type": "display_data"
    }
   ],
   "source": [
    "points = kde(df.sepal_width, gaussian)\n",
    "\n",
    "plt.hist(df.sepal_width, bins='auto', density=True)\n",
    "plt.plot(np.linspace(df.sepal_width.min(), df.sepal_width.max(), 1000), points)"
   ]
  },
  {
   "cell_type": "code",
   "execution_count": 3,
   "metadata": {},
   "outputs": [],
   "source": [
    "from scipy.stats import norm\n",
    "\n",
    "x = np.linspace(-5, 5, 10000)\n",
    "dxReal = x[1] - x[0]\n",
    "pdfReal = norm.pdf(x)\n",
    "\n",
    "n_generated = 10000  # samples number to generate\n",
    "E_pdf = []\n",
    "kernels = ['gaussian', 'tophat', 'epanechnikov', 'exponential', 'linear', 'cosine']"
   ]
  },
  {
   "cell_type": "code",
   "execution_count": 16,
   "metadata": {},
   "outputs": [
    {
     "name": "stdout",
     "output_type": "stream",
     "text": [
      "Fatto Kernel: gaussian\n",
      "Fatto Kernel: tophat\n",
      "Fatto Kernel: epanechnikov\n",
      "Fatto Kernel: exponential\n",
      "Fatto Kernel: linear\n",
      "Fatto Kernel: cosine\n"
     ]
    }
   ],
   "source": [
    "n_sim = 100\n",
    "results = np.zeros((len(kernels), 3))\n",
    "# generating the sample\n",
    "for j, kernel in enumerate(kernels):\n",
    "    E_pdf = []\n",
    "    samples = np.random.normal(size=(n_generated, n_sim))\n",
    "    for i in range(n_sim):\n",
    "        x, pdfEstimated = kde_sklearn(samples[:, i], kernel)\n",
    "\n",
    "        dx = x[1] - x[0]\n",
    "\n",
    "        E_pdf.append(diff_E(pdfEstimated, dx))\n",
    "    print(f'Fatto Kernel: {kernel}')\n",
    "    \n",
    "    results[j, :] = (np.mean(E_pdf), *np.quantile(E_pdf, [0.25, 0.75]))"
   ]
  },
  {
   "cell_type": "code",
   "execution_count": 17,
   "metadata": {},
   "outputs": [
    {
     "data": {
      "text/plain": [
       "array([[1.42713435, 1.42273533, 1.43137792],\n",
       "       [1.41977392, 1.41566018, 1.42444973],\n",
       "       [1.41724865, 1.41252219, 1.42179827],\n",
       "       [1.43746418, 1.43374854, 1.4415733 ],\n",
       "       [1.41721776, 1.41365405, 1.42093429],\n",
       "       [1.41780741, 1.41361816, 1.42236413]])"
      ]
     },
     "execution_count": 17,
     "metadata": {},
     "output_type": "execute_result"
    }
   ],
   "source": [
    "results"
   ]
  },
  {
   "cell_type": "code",
   "execution_count": 20,
   "metadata": {},
   "outputs": [],
   "source": [
    "res = pd.DataFrame({'Kernel': kernels, 'Mean Entropy': results[:, 0], \n",
    "                    'q1 Entropy': results[:, 1], 'q2 Entropy': results[:, 2]})"
   ]
  },
  {
   "cell_type": "code",
   "execution_count": 23,
   "metadata": {},
   "outputs": [],
   "source": [
    "res.to_csv('continuos_entropy_kernels.csv',index=None)"
   ]
  },
  {
   "cell_type": "code",
   "execution_count": 25,
   "metadata": {},
   "outputs": [
    {
     "data": {
      "text/html": [
       "<div>\n",
       "<style scoped>\n",
       "    .dataframe tbody tr th:only-of-type {\n",
       "        vertical-align: middle;\n",
       "    }\n",
       "\n",
       "    .dataframe tbody tr th {\n",
       "        vertical-align: top;\n",
       "    }\n",
       "\n",
       "    .dataframe thead th {\n",
       "        text-align: right;\n",
       "    }\n",
       "</style>\n",
       "<table border=\"1\" class=\"dataframe\">\n",
       "  <thead>\n",
       "    <tr style=\"text-align: right;\">\n",
       "      <th></th>\n",
       "      <th>Kernel</th>\n",
       "      <th>Mean Entropy</th>\n",
       "      <th>q1 Entropy</th>\n",
       "      <th>q2 Entropy</th>\n",
       "    </tr>\n",
       "  </thead>\n",
       "  <tbody>\n",
       "    <tr>\n",
       "      <th>0</th>\n",
       "      <td>gaussian</td>\n",
       "      <td>1.427134</td>\n",
       "      <td>1.422735</td>\n",
       "      <td>1.431378</td>\n",
       "    </tr>\n",
       "    <tr>\n",
       "      <th>1</th>\n",
       "      <td>tophat</td>\n",
       "      <td>1.419774</td>\n",
       "      <td>1.415660</td>\n",
       "      <td>1.424450</td>\n",
       "    </tr>\n",
       "    <tr>\n",
       "      <th>2</th>\n",
       "      <td>epanechnikov</td>\n",
       "      <td>1.417249</td>\n",
       "      <td>1.412522</td>\n",
       "      <td>1.421798</td>\n",
       "    </tr>\n",
       "    <tr>\n",
       "      <th>3</th>\n",
       "      <td>exponential</td>\n",
       "      <td>1.437464</td>\n",
       "      <td>1.433749</td>\n",
       "      <td>1.441573</td>\n",
       "    </tr>\n",
       "    <tr>\n",
       "      <th>4</th>\n",
       "      <td>linear</td>\n",
       "      <td>1.417218</td>\n",
       "      <td>1.413654</td>\n",
       "      <td>1.420934</td>\n",
       "    </tr>\n",
       "    <tr>\n",
       "      <th>5</th>\n",
       "      <td>cosine</td>\n",
       "      <td>1.417807</td>\n",
       "      <td>1.413618</td>\n",
       "      <td>1.422364</td>\n",
       "    </tr>\n",
       "  </tbody>\n",
       "</table>\n",
       "</div>"
      ],
      "text/plain": [
       "         Kernel  Mean Entropy  q1 Entropy  q2 Entropy\n",
       "0      gaussian      1.427134    1.422735    1.431378\n",
       "1        tophat      1.419774    1.415660    1.424450\n",
       "2  epanechnikov      1.417249    1.412522    1.421798\n",
       "3   exponential      1.437464    1.433749    1.441573\n",
       "4        linear      1.417218    1.413654    1.420934\n",
       "5        cosine      1.417807    1.413618    1.422364"
      ]
     },
     "execution_count": 25,
     "metadata": {},
     "output_type": "execute_result"
    }
   ],
   "source": [
    "res"
   ]
  },
  {
   "cell_type": "code",
   "execution_count": 26,
   "metadata": {},
   "outputs": [
    {
     "data": {
      "text/plain": [
       "0    0.008204\n",
       "1    0.000844\n",
       "2   -0.001682\n",
       "3    0.018534\n",
       "4   -0.001713\n",
       "5   -0.001123\n",
       "Name: Mean Entropy, dtype: float64"
      ]
     },
     "execution_count": 26,
     "metadata": {},
     "output_type": "execute_result"
    }
   ],
   "source": [
    "res['Mean Entropy'] - diff_E(pdfReal, dxReal)"
   ]
  }
 ],
 "metadata": {
  "interpreter": {
   "hash": "c6e4e9f98eb68ad3b7c296f83d20e6de614cb42e90992a65aa266555a3137d0d"
  },
  "kernelspec": {
   "display_name": "Python 3.9.6 64-bit ('base': conda)",
   "language": "python",
   "name": "python3"
  },
  "language_info": {
   "codemirror_mode": {
    "name": "ipython",
    "version": 3
   },
   "file_extension": ".py",
   "mimetype": "text/x-python",
   "name": "python",
   "nbconvert_exporter": "python",
   "pygments_lexer": "ipython3",
   "version": "3.9.6"
  },
  "orig_nbformat": 4
 },
 "nbformat": 4,
 "nbformat_minor": 2
}
